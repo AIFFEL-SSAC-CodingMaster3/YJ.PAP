{
 "cells": [
  {
   "cell_type": "code",
   "execution_count": 2,
   "id": "entire-louisiana",
   "metadata": {},
   "outputs": [
    {
     "name": "stdout",
     "output_type": "stream",
     "text": [
      "4\n"
     ]
    }
   ],
   "source": [
    "from typing import List\n",
    "\n",
    "\n",
    "class Solution:\n",
    "    def arrayPairSum(self, nums: List[int]) -> int:\n",
    "        sum = 0\n",
    "        pair = []\n",
    "        nums.sort()\n",
    "\n",
    "        for n in nums:\n",
    "            # 앞에서 부터 오름차순으로 페어를 만들어 합 계산\n",
    "            pair.append(n)\n",
    "            if len(pair) == 2:\n",
    "                sum += min(pair)\n",
    "                pair = []\n",
    "\n",
    "        return sum\n",
    "    \n",
    "a = Solution()\n",
    "result = a.arrayPairSum([1,4,3,2])\n",
    "print(result)"
   ]
  }
 ],
 "metadata": {
  "kernelspec": {
   "display_name": "aiffel",
   "language": "python",
   "name": "aiffel"
  },
  "language_info": {
   "codemirror_mode": {
    "name": "ipython",
    "version": 3
   },
   "file_extension": ".py",
   "mimetype": "text/x-python",
   "name": "python",
   "nbconvert_exporter": "python",
   "pygments_lexer": "ipython3",
   "version": "3.7.9"
  }
 },
 "nbformat": 4,
 "nbformat_minor": 5
}
