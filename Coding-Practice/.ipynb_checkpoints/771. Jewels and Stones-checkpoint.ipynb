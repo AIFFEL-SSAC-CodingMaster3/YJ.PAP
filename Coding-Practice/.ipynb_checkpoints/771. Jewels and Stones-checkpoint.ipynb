{
 "cells": [
  {
   "cell_type": "code",
   "execution_count": null,
   "id": "major-corruption",
   "metadata": {},
   "outputs": [],
   "source": [
    "class Solution:\n",
    "    def numJewelsInStones(self, J: str, S: str) -> int:\n",
    "        freqs = {}\n",
    "        count = 0\n",
    "\n",
    "        # 돌(S)의 빈도 수 계산\n",
    "        for char in S:\n",
    "            if char not in freqs:\n",
    "                freqs[char] = 1\n",
    "            else:\n",
    "                freqs[char] += 1\n",
    "\n",
    "        # 보석(J)의 빈도 수 합산\n",
    "        for char in J:\n",
    "            if char in freqs:\n",
    "                count += freqs[char]\n",
    "\n",
    "        return count"
   ]
  }
 ],
 "metadata": {
  "kernelspec": {
   "display_name": "aiffel",
   "language": "python",
   "name": "aiffel"
  },
  "language_info": {
   "codemirror_mode": {
    "name": "ipython",
    "version": 3
   },
   "file_extension": ".py",
   "mimetype": "text/x-python",
   "name": "python",
   "nbconvert_exporter": "python",
   "pygments_lexer": "ipython3",
   "version": "3.7.9"
  }
 },
 "nbformat": 4,
 "nbformat_minor": 5
}
