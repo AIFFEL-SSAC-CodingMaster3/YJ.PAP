{
 "cells": [
  {
   "cell_type": "code",
   "execution_count": 3,
   "id": "cubic-queens",
   "metadata": {},
   "outputs": [
    {
     "name": "stdout",
     "output_type": "stream",
     "text": [
      "[1, 1, 4, 2, 1, 1, 0, 0]\n"
     ]
    }
   ],
   "source": [
    "from typing import List\n",
    "\n",
    "\n",
    "class Solution:\n",
    "    def dailyTemperatures(self, T: List[int]) -> List[int]:\n",
    "        answer = [0] * len(T)\n",
    "        stack = []\n",
    "        for i, cur in enumerate(T):\n",
    "            # 현재 온도가 스택 값보다 높다면 정답 처리\n",
    "            while stack and cur > T[stack[-1]]:\n",
    "                last = stack.pop()\n",
    "                answer[last] = i - last\n",
    "            stack.append(i)\n",
    "\n",
    "        return answer\n",
    "\n",
    "a = Solution()\n",
    "result = a.dailyTemperatures([73, 74, 75, 71, 69, 72, 76, 73])\n",
    "print(result)"
   ]
  }
 ],
 "metadata": {
  "kernelspec": {
   "display_name": "aiffel",
   "language": "python",
   "name": "aiffel"
  },
  "language_info": {
   "codemirror_mode": {
    "name": "ipython",
    "version": 3
   },
   "file_extension": ".py",
   "mimetype": "text/x-python",
   "name": "python",
   "nbconvert_exporter": "python",
   "pygments_lexer": "ipython3",
   "version": "3.7.9"
  }
 },
 "nbformat": 4,
 "nbformat_minor": 5
}
