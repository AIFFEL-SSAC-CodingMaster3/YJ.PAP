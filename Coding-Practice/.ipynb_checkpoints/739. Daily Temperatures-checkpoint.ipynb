{
 "cells": [
  {
   "cell_type": "code",
   "execution_count": null,
   "id": "ecological-receipt",
   "metadata": {},
   "outputs": [],
   "source": [
    "from typing import List\n",
    "\n",
    "\n",
    "class Solution:\n",
    "    def dailyTemperatures(self, T: List[int]) -> List[int]:\n",
    "        answer = [0] * len(T)\n",
    "        stack = []\n",
    "        for i, cur in enumerate(T):\n",
    "            # 현재 온도가 스택 값보다 높다면 정답 처리\n",
    "            while stack and cur > T[stack[-1]]:\n",
    "                last = stack.pop()\n",
    "                answer[last] = i - last\n",
    "            stack.append(i)\n",
    "\n",
    "        return answer"
   ]
  }
 ],
 "metadata": {
  "kernelspec": {
   "display_name": "aiffel",
   "language": "python",
   "name": "aiffel"
  },
  "language_info": {
   "codemirror_mode": {
    "name": "ipython",
    "version": 3
   },
   "file_extension": ".py",
   "mimetype": "text/x-python",
   "name": "python",
   "nbconvert_exporter": "python",
   "pygments_lexer": "ipython3",
   "version": "3.7.9"
  }
 },
 "nbformat": 4,
 "nbformat_minor": 5
}
