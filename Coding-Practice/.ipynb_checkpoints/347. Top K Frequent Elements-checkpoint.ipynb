{
 "cells": [
  {
   "cell_type": "code",
   "execution_count": null,
   "id": "modular-harrison",
   "metadata": {},
   "outputs": [],
   "source": [
    "import collections\n",
    "import heapq\n",
    "from typing import List\n",
    "'''\n",
    "class Solution:\n",
    "    def topKFrequent(self, nums: List[int], k: int) -> List[int]:\n",
    "        freqs = collections.Counter(nums)\n",
    "        freqs_heap = []\n",
    "        # 힙에 음수로 삽입\n",
    "        for f in freqs:\n",
    "            heapq.heappush(freqs_heap, (-freqs[f],f,))\n",
    "\n",
    "        topk = list()\n",
    "        # k번 만큼 추출, 민 힙 이므로 가장 작은 음수 순으로 추출\n",
    "        for _ in range(k):\n",
    "            topk.append(heapq.heappop(freqs_heap)[1])\n",
    "            print(topk)\n",
    "        return topk\n",
    "'''\n",
    "'''\n",
    "class Solution:\n",
    "    def topKFrequent(self, nums: List[int], k: int) -> List[int]:\n",
    "        a = collections.Counter(nums)\n",
    "        bar = sorted(a.values(), reverse=True)[k - 1]\n",
    "        result = []\n",
    "        for num in a:\n",
    "            if a[num] >= bar:\n",
    "                result.append(num)\n",
    "                print(result)\n",
    "        return result\n",
    "'''\n",
    "\n",
    "class Solution:\n",
    "    def topKFrequent(self, nums: List[int], k: int) -> List[int]:\n",
    "        cnt = collections.Counter(nums)\n",
    "        pre = []\n",
    "\n",
    "        for num in cnt:\n",
    "            pre.append([-cnt[num], num])\n",
    "\n",
    "        heapq.heapify(pre)\n",
    "        return [heapq.heappop(pre)[1] for _ in range(k)]\n",
    "a = Solution()\n",
    "result = a.topKFrequent([1,1,1,4,4,4,4,4,4,5,5,5,5,7,7,7,7,7], 2)"
   ]
  }
 ],
 "metadata": {
  "kernelspec": {
   "display_name": "aiffel",
   "language": "python",
   "name": "aiffel"
  },
  "language_info": {
   "codemirror_mode": {
    "name": "ipython",
    "version": 3
   },
   "file_extension": ".py",
   "mimetype": "text/x-python",
   "name": "python",
   "nbconvert_exporter": "python",
   "pygments_lexer": "ipython3",
   "version": "3.7.9"
  }
 },
 "nbformat": 4,
 "nbformat_minor": 5
}
