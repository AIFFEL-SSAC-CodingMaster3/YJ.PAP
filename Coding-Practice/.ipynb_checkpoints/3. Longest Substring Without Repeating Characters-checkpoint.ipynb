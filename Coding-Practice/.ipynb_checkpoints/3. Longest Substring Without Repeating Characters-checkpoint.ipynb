{
 "cells": [
  {
   "cell_type": "code",
   "execution_count": 1,
   "id": "urban-restoration",
   "metadata": {},
   "outputs": [
    {
     "data": {
      "text/plain": [
       "7"
      ]
     },
     "execution_count": 1,
     "metadata": {},
     "output_type": "execute_result"
    }
   ],
   "source": [
    "class Solution:\n",
    "    def lengthOfLongestSubstring(self, s: str) -> int:\n",
    "        longest = 0\n",
    "        sub_string = \"\"\n",
    "        for c in s:\n",
    "            if c not in sub_string:\n",
    "                sub_string += c\n",
    "                longest = max(longest, len(sub_string))\n",
    "            else:\n",
    "                sub_string = sub_string[sub_string.index(c) + 1:] + c\n",
    "        return longest\n",
    "\n",
    "\n",
    "a = Solution()\n",
    "a.lengthOfLongestSubstring('pwwkkewabcdabc')"
   ]
  }
 ],
 "metadata": {
  "kernelspec": {
   "display_name": "aiffel",
   "language": "python",
   "name": "aiffel"
  },
  "language_info": {
   "codemirror_mode": {
    "name": "ipython",
    "version": 3
   },
   "file_extension": ".py",
   "mimetype": "text/x-python",
   "name": "python",
   "nbconvert_exporter": "python",
   "pygments_lexer": "ipython3",
   "version": "3.7.9"
  }
 },
 "nbformat": 4,
 "nbformat_minor": 5
}
