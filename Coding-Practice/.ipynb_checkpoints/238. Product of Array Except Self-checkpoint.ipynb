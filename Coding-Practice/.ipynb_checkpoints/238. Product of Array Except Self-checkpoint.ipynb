{
 "cells": [
  {
   "cell_type": "code",
   "execution_count": 4,
   "id": "proud-rates",
   "metadata": {},
   "outputs": [
    {
     "name": "stdout",
     "output_type": "stream",
     "text": [
      "[24, 12, 8, 6]\n"
     ]
    }
   ],
   "source": [
    "from typing import List\n",
    "\n",
    "\n",
    "class Solution:\n",
    "    def productExceptSelf(self, nums: List[int]) -> List[int]:\n",
    "        out = []\n",
    "        p = 1\n",
    "        # 왼쪽 곱셈\n",
    "        for i in range(0, len(nums)):\n",
    "            out.append(p)\n",
    "            p = p * nums[i]\n",
    "        p = 1\n",
    "        # 왼쪽 곱셈 결과에 오른쪽 값을 차례대로 곱셈\n",
    "        for i in range(len(nums) - 1, 0 - 1, -1):\n",
    "            out[i] = out[i] * p\n",
    "            p = p * nums[i]\n",
    "        return out\n",
    "    \n",
    "a = Solution()\n",
    "result = a.productExceptSelf([1,2,3,4])\n",
    "print(result)"
   ]
  },
  {
   "cell_type": "code",
   "execution_count": null,
   "id": "sophisticated-child",
   "metadata": {},
   "outputs": [],
   "source": []
  }
 ],
 "metadata": {
  "kernelspec": {
   "display_name": "aiffel",
   "language": "python",
   "name": "aiffel"
  },
  "language_info": {
   "codemirror_mode": {
    "name": "ipython",
    "version": 3
   },
   "file_extension": ".py",
   "mimetype": "text/x-python",
   "name": "python",
   "nbconvert_exporter": "python",
   "pygments_lexer": "ipython3",
   "version": "3.7.9"
  }
 },
 "nbformat": 4,
 "nbformat_minor": 5
}
