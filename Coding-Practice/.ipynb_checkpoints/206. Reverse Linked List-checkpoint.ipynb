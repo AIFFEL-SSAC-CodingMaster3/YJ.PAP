{
 "cells": [
  {
   "cell_type": "code",
   "execution_count": null,
   "id": "constitutional-patent",
   "metadata": {},
   "outputs": [],
   "source": [
    "# runtime 48\n",
    "class Solution:\n",
    "    def reverseList(self, head: ListNode) -> ListNode:\n",
    "        prev=None\n",
    "        # 노드가 비어있는 경우\n",
    "        if not head:\n",
    "            return prev\n",
    "        next = head.next\n",
    "        head.next = prev\n",
    "        return self.reverseList(next, head)"
   ]
  },
  {
   "cell_type": "code",
   "execution_count": null,
   "id": "disciplinary-filter",
   "metadata": {},
   "outputs": [],
   "source": [
    "# deque 사용\n",
    "class Solution:\n",
    "    def reverseList(self, head: ListNode) -> ListNode:\n",
    "        q: Deque = deque()\n",
    "        while head:\n",
    "            q.appendleft(head.val)\n",
    "            head = head.next\n",
    "\n",
    "        dummy = list_node = ListNode(0)\n",
    "        for num in q:\n",
    "            list_node.next = ListNode(num)\n",
    "            list_node = list_node.next\n",
    "        return dummy.next"
   ]
  },
  {
   "cell_type": "code",
   "execution_count": null,
   "id": "vanilla-board",
   "metadata": {},
   "outputs": [],
   "source": [
    "# runtime 32\n",
    "class Solution:\n",
    "    def reverseList(self, head: ListNode) -> ListNode:\n",
    "        prev = None\n",
    "        curr = head\n",
    "        \n",
    "        while curr!= None:\n",
    "            tmp = curr.next\n",
    "            curr.next = prev\n",
    "            prev = curr\n",
    "            curr = tmp\n",
    "            \n",
    "        return prev"
   ]
  }
 ],
 "metadata": {
  "kernelspec": {
   "display_name": "aiffel",
   "language": "python",
   "name": "aiffel"
  },
  "language_info": {
   "codemirror_mode": {
    "name": "ipython",
    "version": 3
   },
   "file_extension": ".py",
   "mimetype": "text/x-python",
   "name": "python",
   "nbconvert_exporter": "python",
   "pygments_lexer": "ipython3",
   "version": "3.7.9"
  }
 },
 "nbformat": 4,
 "nbformat_minor": 5
}
