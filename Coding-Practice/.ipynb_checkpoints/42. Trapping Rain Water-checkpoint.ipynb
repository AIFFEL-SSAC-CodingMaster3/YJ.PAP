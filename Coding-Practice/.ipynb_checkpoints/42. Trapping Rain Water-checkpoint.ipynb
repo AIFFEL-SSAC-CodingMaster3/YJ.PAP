{
 "cells": [
  {
   "cell_type": "code",
   "execution_count": 2,
   "id": "friendly-panama",
   "metadata": {},
   "outputs": [
    {
     "name": "stdout",
     "output_type": "stream",
     "text": [
      "6\n"
     ]
    }
   ],
   "source": [
    "from typing import List\n",
    "\n",
    "\n",
    "class Solution:\n",
    "    def trap(self, height: List[int]) -> int:\n",
    "        stack = []\n",
    "        volume = 0\n",
    "\n",
    "        for i in range(len(height)):\n",
    "            # 변곡점을 만나는 경우\n",
    "            while stack and height[i] > height[stack[-1]]:\n",
    "                # 스택에서 꺼낸다\n",
    "                top = stack.pop()\n",
    "\n",
    "                if not len(stack):\n",
    "                    break\n",
    "\n",
    "                # 이전과의 차이만큼 물 높이 처리\n",
    "                distance = i - stack[-1] - 1\n",
    "                waters = min(height[i], height[stack[-1]]) - height[top]\n",
    "\n",
    "                volume += distance * waters\n",
    "\n",
    "            stack.append(i)\n",
    "        return volume\n",
    "    \n",
    "a = Solution()\n",
    "result = a.trap([0,1,0,2,1,0,1,3,2,1,2,1])\n",
    "print(result)"
   ]
  }
 ],
 "metadata": {
  "kernelspec": {
   "display_name": "aiffel",
   "language": "python",
   "name": "aiffel"
  },
  "language_info": {
   "codemirror_mode": {
    "name": "ipython",
    "version": 3
   },
   "file_extension": ".py",
   "mimetype": "text/x-python",
   "name": "python",
   "nbconvert_exporter": "python",
   "pygments_lexer": "ipython3",
   "version": "3.7.9"
  }
 },
 "nbformat": 4,
 "nbformat_minor": 5
}
