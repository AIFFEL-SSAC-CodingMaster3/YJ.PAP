{
 "cells": [
  {
   "cell_type": "code",
   "execution_count": null,
   "id": "alive-atlanta",
   "metadata": {},
   "outputs": [],
   "source": [
    "import collections\n",
    "\n",
    "\n",
    "class MyStack:\n",
    "    def __init__(self):\n",
    "        self.q = collections.deque()\n",
    "\n",
    "    def push(self, x):\n",
    "        self.q.append(x)\n",
    "        # 요소 삽입 후 맨 앞에 두는 상태로 재정렬\n",
    "        for _ in range(len(self.q) - 1):\n",
    "            self.q.append(self.q.popleft())\n",
    "\n",
    "    def pop(self):\n",
    "        return self.q.popleft()\n",
    "\n",
    "    def top(self):\n",
    "        return self.q[0]\n",
    "\n",
    "    def empty(self):\n",
    "        return len(self.q) == 0"
   ]
  }
 ],
 "metadata": {
  "kernelspec": {
   "display_name": "aiffel",
   "language": "python",
   "name": "aiffel"
  },
  "language_info": {
   "codemirror_mode": {
    "name": "ipython",
    "version": 3
   },
   "file_extension": ".py",
   "mimetype": "text/x-python",
   "name": "python",
   "nbconvert_exporter": "python",
   "pygments_lexer": "ipython3",
   "version": "3.7.9"
  }
 },
 "nbformat": 4,
 "nbformat_minor": 5
}
