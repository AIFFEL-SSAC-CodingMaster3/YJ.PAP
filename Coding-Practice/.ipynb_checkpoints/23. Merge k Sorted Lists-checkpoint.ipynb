{
 "cells": [
  {
   "cell_type": "code",
   "execution_count": null,
   "id": "fifth-shooting",
   "metadata": {},
   "outputs": [],
   "source": [
    "class Solution:\n",
    "    def mergeKLists(self, lists: List[ListNode]) -> ListNode:\n",
    "        dummy = ListNode(0)\n",
    "        current = dummy\n",
    "        data = []\n",
    "        for node in lists:\n",
    "            while node:\n",
    "                heapq.heappush(data, node.val)\n",
    "                node = node.next\n",
    "                while data :\n",
    "                    val = heapq.heappop(data)\n",
    "                    current.ext = ListNode(val)\n",
    "                    current = current.next\n",
    "                    return dummy.next"
   ]
  }
 ],
 "metadata": {
  "kernelspec": {
   "display_name": "aiffel",
   "language": "python",
   "name": "aiffel"
  },
  "language_info": {
   "codemirror_mode": {
    "name": "ipython",
    "version": 3
   },
   "file_extension": ".py",
   "mimetype": "text/x-python",
   "name": "python",
   "nbconvert_exporter": "python",
   "pygments_lexer": "ipython3",
   "version": "3.7.9"
  }
 },
 "nbformat": 4,
 "nbformat_minor": 5
}
