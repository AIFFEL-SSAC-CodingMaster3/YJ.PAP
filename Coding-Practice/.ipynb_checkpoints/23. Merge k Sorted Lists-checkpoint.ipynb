{
 "cells": [
  {
   "cell_type": "code",
   "execution_count": null,
   "id": "fifth-shooting",
   "metadata": {},
   "outputs": [],
   "source": [
    "from typing import *\n",
    "import heapq\n",
    "class ListNode:\n",
    "     def __init__(self, val=0, next=None):\n",
    "        self.val = val\n",
    "        self.next = next\n",
    "'''\n",
    "class Solution:\n",
    "    def mergeKLists(self, lists: List[ListNode]) -> ListNode:\n",
    "        dummy = ListNode(0)\n",
    "        current = dummy\n",
    "        data = []\n",
    "        for node in lists:\n",
    "            while node:\n",
    "                heapq.heappush(data, node.val)\n",
    "                node = node.next\n",
    "                \n",
    "            while data :\n",
    "                    val = heapq.heappop(data)\n",
    "                    current.next = ListNode(val)\n",
    "                    current = current.next\n",
    "                    \n",
    "            return dummy.next\n",
    "            \n",
    "a = Solution()\n",
    "result = a.mergeKLists([[1,4,5],[1,3,4],[2,6]])\n",
    "print(result)\n",
    "'''\n",
    "b = ListNode()\n",
    "lists = [[1,4,5],[1,3,4],[2,6]]\n",
    "dummy = b(0)\n",
    "current = dummy\n",
    "data = []\n",
    "for node in lists:\n",
    "    while node:\n",
    "        heapq.heappush(data, node.val)\n",
    "        node = node.next\n",
    "                \n",
    "    while data :\n",
    "            val = heapq.heappop(data)\n",
    "            current.next = ListNode(val)\n",
    "            current = current.next"
   ]
  }
 ],
 "metadata": {
  "kernelspec": {
   "display_name": "aiffel",
   "language": "python",
   "name": "aiffel"
  },
  "language_info": {
   "codemirror_mode": {
    "name": "ipython",
    "version": 3
   },
   "file_extension": ".py",
   "mimetype": "text/x-python",
   "name": "python",
   "nbconvert_exporter": "python",
   "pygments_lexer": "ipython3",
   "version": "3.7.9"
  }
 },
 "nbformat": 4,
 "nbformat_minor": 5
}
