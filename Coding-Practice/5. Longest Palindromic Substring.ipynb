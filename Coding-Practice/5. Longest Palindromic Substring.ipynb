{
 "cells": [
  {
   "cell_type": "code",
   "execution_count": 2,
   "metadata": {},
   "outputs": [
    {
     "name": "stdout",
     "output_type": "stream",
     "text": [
      "bab\n"
     ]
    }
   ],
   "source": [
    "class Solution:\n",
    "    def longestPalindrome(self, s: str) -> str:\n",
    "# 팰린드롬 판별 및 투 포인터 확장\n",
    "        def expand(left, right) -> str:\n",
    "            while left >= 0 and right < len(s) and s[left] == s[right]: #1423231\n",
    "                left -= 1\n",
    "                right += 1\n",
    "            return s[left + 1:right] #부분문자열이기 때문에 1씩 더하고 빼준다.\n",
    "\n",
    "# 해당 사항이 없을때 빠르게 리턴\n",
    "        if len(s) < 2 or s == s[::-1]:\n",
    "            return s\n",
    "\n",
    "#포인터 이동 및 가장 큰 값 리턴\n",
    "        result = ''\n",
    "        for i in range(len(s) - 1):\n",
    "            result = max(result,\n",
    "                         expand(i, i + 1), #짝수 검사\n",
    "                         expand(i, i + 2), #홀수 검사\n",
    "                         key=len)\n",
    "        return result\n",
    "\n",
    "\n",
    "a = Solution()\n",
    "result = a.longestPalindrome(\"babdgad\")\n",
    "print(result)"
   ]
  },
  {
   "cell_type": "code",
   "execution_count": null,
   "metadata": {},
   "outputs": [],
   "source": []
  }
 ],
 "metadata": {
  "kernelspec": {
   "display_name": "aiffel",
   "language": "python",
   "name": "aiffel"
  },
  "language_info": {
   "codemirror_mode": {
    "name": "ipython",
    "version": 3
   },
   "file_extension": ".py",
   "mimetype": "text/x-python",
   "name": "python",
   "nbconvert_exporter": "python",
   "pygments_lexer": "ipython3",
   "version": "3.7.9"
  }
 },
 "nbformat": 4,
 "nbformat_minor": 4
}
